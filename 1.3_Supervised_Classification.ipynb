{
 "cells": [
  {
   "cell_type": "markdown",
   "metadata": {},
   "source": [
    "## Text Parse Summary\n",
    "\n",
    "A binary variable was encoded to represent a 'cloudy' day and a 'clr' day.  Below are the encodings for the sky conditions, taken from the noaa website.\n",
    "\n",
    "0 oktas/0 tenths is defined as CLR (clear sky) \n",
    "1-2 oktas/1-3 tenths is defined as FEW (few clouds) \n",
    "3-4 oktas/4-5 tenths is defined as SCT (scattered clouds) \n",
    "5 to less than 8/6 to less than 10 is defined as BKN (broken clouds) \n",
    "8 oktas/10 tenths is defined as OVC (overcast) \n",
    "obscured sky due to weather phenonmen is defined as VV\n",
    "\n",
    "A clear day was defined as anything that contained CLR, FEW, or SCT clouds, while a cloudy day was defined as anything containing BKN, OVC, or VV.  "
   ]
  },
  {
   "cell_type": "code",
   "execution_count": null,
   "metadata": {
    "collapsed": true
   },
   "outputs": [],
   "source": [
    "import pandas as pd\n",
    "import numpy as np\n",
    "import re\n",
    "import seaborn as sns\n",
    "import matplotlib.pyplot as plt\n",
    "import pickle\n",
    "%matplotlib inline"
   ]
  },
  {
   "cell_type": "code",
   "execution_count": null,
   "metadata": {
    "collapsed": true
   },
   "outputs": [],
   "source": [
    "d = pd.read_pickle(\"hourlies.pickle\")"
   ]
  },
  {
   "cell_type": "code",
   "execution_count": null,
   "metadata": {},
   "outputs": [],
   "source": [
    "d.info()"
   ]
  },
  {
   "cell_type": "markdown",
   "metadata": {},
   "source": [
    "#### Text parsing was used to assign weights for each sky condition."
   ]
  },
  {
   "cell_type": "code",
   "execution_count": null,
   "metadata": {},
   "outputs": [],
   "source": [
    "d['HOURLYSKYCONDITIONS'].head()"
   ]
  },
  {
   "cell_type": "code",
   "execution_count": null,
   "metadata": {
    "collapsed": true
   },
   "outputs": [],
   "source": [
    "#Replace the ':' with a space to separate the conditions\n",
    "sky = d['HOURLYSKYCONDITIONS'].str.replace(':', \" \")"
   ]
  },
  {
   "cell_type": "code",
   "execution_count": null,
   "metadata": {
    "collapsed": true
   },
   "outputs": [],
   "source": [
    "#Find each sky condition\n",
    "clr = sky.str.contains('CLR')\n",
    "few = sky.str.contains('FEW')\n",
    "sct = sky.str.contains('SCT')\n",
    "bkn = sky.str.contains('BKN')\n",
    "ovc = sky.str.contains('OVC')\n",
    "vv = sky.str.contains('VV')"
   ]
  },
  {
   "cell_type": "code",
   "execution_count": null,
   "metadata": {
    "collapsed": true
   },
   "outputs": [],
   "source": [
    "#Find the average\n",
    "cloudy_average = (0*clr + 0.2*few + 0.45*sct + 0.7*bkn + 0.9*ovc + 1*vv)"
   ]
  },
  {
   "cell_type": "code",
   "execution_count": null,
   "metadata": {
    "collapsed": true
   },
   "outputs": [],
   "source": [
    "#Set a threshold for a clear or cloudy day, where clear=0 and cloudy=1 \n",
    "binary_clouds = 1*(cloudy_average[:] > 0.65) + 0*(cloudy_average[:] <= 0.65)"
   ]
  },
  {
   "cell_type": "code",
   "execution_count": null,
   "metadata": {
    "collapsed": true
   },
   "outputs": [],
   "source": [
    "#Add a new column to the data frame\n",
    "d['Binary_Clouds'] = binary_clouds"
   ]
  },
  {
   "cell_type": "markdown",
   "metadata": {},
   "source": [
    "## Intent of Logistic Regression\n",
    "\n",
    "The intent of the logistic model was to build a model that predicts the probability of a clear or cloudy day, both for all locations and then location by location.  A 80/20 train-test plit was used and models were cross validated by way of 'accuracy'.  After a model was built for all locations, models were seperated by location to see if there were any highly-accurate models for prediction of a clear or cloudy day."
   ]
  },
  {
   "cell_type": "code",
   "execution_count": null,
   "metadata": {
    "collapsed": true
   },
   "outputs": [],
   "source": [
    "from sklearn.model_selection import train_test_split, cross_val_score\n",
    "from sklearn.linear_model import LogisticRegression"
   ]
  },
  {
   "cell_type": "code",
   "execution_count": null,
   "metadata": {
    "collapsed": true
   },
   "outputs": [],
   "source": [
    "#Group dowon to numerical values for logistic regression from the whole set\n",
    "X = d[['HOURLYDRYBULBTEMPF', 'HOURLYDewPointTempF', 'HOURLYRelativeHumidity', \n",
    "               'HOURLYWindSpeed', 'HOURLYAltimeterSetting', 'HOURLYPrecip']]\n",
    "y = d['Binary_Clouds']"
   ]
  },
  {
   "cell_type": "code",
   "execution_count": null,
   "metadata": {
    "collapsed": true
   },
   "outputs": [],
   "source": [
    "X_train, X_test, y_train, y_test = train_test_split(X, y, test_size = 0.20, random_state = 42)"
   ]
  },
  {
   "cell_type": "code",
   "execution_count": null,
   "metadata": {},
   "outputs": [],
   "source": [
    "logmodel = LogisticRegression()\n",
    "logmodel.fit(X_train,y_train)"
   ]
  },
  {
   "cell_type": "code",
   "execution_count": null,
   "metadata": {
    "collapsed": true
   },
   "outputs": [],
   "source": [
    "predictions = logmodel.predict(X_test)"
   ]
  },
  {
   "cell_type": "code",
   "execution_count": null,
   "metadata": {
    "collapsed": true
   },
   "outputs": [],
   "source": [
    "from sklearn.metrics import confusion_matrix, classification_report"
   ]
  },
  {
   "cell_type": "code",
   "execution_count": null,
   "metadata": {},
   "outputs": [],
   "source": [
    "confusion_matrix(y_test, predictions)"
   ]
  },
  {
   "cell_type": "code",
   "execution_count": null,
   "metadata": {},
   "outputs": [],
   "source": [
    "#This model returns around a %70 percent accurary rate\n",
    "print(classification_report(y_test, predictions))  "
   ]
  },
  {
   "cell_type": "code",
   "execution_count": null,
   "metadata": {},
   "outputs": [],
   "source": [
    "#Cross-validation with 10-folds\n",
    "scores_accuracy = cross_val_score(logmodel, X, y, cv=10, scoring='accuracy')\n",
    "scores_accuracy"
   ]
  },
  {
   "cell_type": "code",
   "execution_count": null,
   "metadata": {},
   "outputs": [],
   "source": [
    "#Mean of the cross validated models\n",
    "scores_accuracy.mean()"
   ]
  },
  {
   "cell_type": "code",
   "execution_count": null,
   "metadata": {},
   "outputs": [],
   "source": [
    "#Test logisitic regression on all cities.\n",
    "idx = d.index\n",
    "locations = np.unique(idx.tolist())"
   ]
  },
  {
   "cell_type": "code",
   "execution_count": null,
   "metadata": {
    "collapsed": true
   },
   "outputs": [],
   "source": [
    "#Run the model for all locations and find means of the cross validated models\n",
    "means = []\n",
    "\n",
    "for i in locations:\n",
    "    place = d.loc[i,]\n",
    "    X = place[['HOURLYDRYBULBTEMPF', 'HOURLYDewPointTempF', 'HOURLYRelativeHumidity', \n",
    "               'HOURLYWindSpeed', 'HOURLYAltimeterSetting']]\n",
    "    y = place['Binary_Clouds']\n",
    "    logmodel = LogisticRegression()\n",
    "    X_train, X_test, y_train, y_test = train_test_split(X, y, test_size = 0.20, random_state = 42)\n",
    "    logmodel.fit(X_train,y_train)\n",
    "    scores_accuracy = cross_val_score(logmodel, X, y, cv=10, scoring='accuracy')\n",
    "    means.append(scores_accuracy.mean())"
   ]
  },
  {
   "cell_type": "code",
   "execution_count": null,
   "metadata": {},
   "outputs": [],
   "source": [
    "means"
   ]
  },
  {
   "cell_type": "code",
   "execution_count": null,
   "metadata": {},
   "outputs": [],
   "source": [
    "print( f'The maximum mean score is {np.max(means)} at {locations[np.argmax(means)]}' )"
   ]
  },
  {
   "cell_type": "code",
   "execution_count": null,
   "metadata": {},
   "outputs": [],
   "source": [
    "#Explore for the maxixmum mean score\n",
    "#Run for Albuquerque\n",
    "NV = d.loc['MERCURY DESERT ROCK AIRPORT NV US',]\n",
    "X = NV[['HOURLYDRYBULBTEMPF', 'HOURLYDewPointTempF', 'HOURLYRelativeHumidity', \n",
    "               'HOURLYWindSpeed', 'HOURLYAltimeterSetting']]\n",
    "y = NV['Binary_Clouds']\n",
    "X_train, X_test, y_train, y_test = train_test_split(X, y, test_size = 0.20, random_state = 42)\n",
    "logmodel = LogisticRegression()\n",
    "logmodel.fit(X_train,y_train)\n",
    "predictions = logmodel.predict(X_test)\n",
    "print(classification_report(y_test, predictions))\n",
    "scores_accuracy = cross_val_score(logmodel, X, y, cv=10, scoring='accuracy')"
   ]
  },
  {
   "cell_type": "code",
   "execution_count": null,
   "metadata": {},
   "outputs": [],
   "source": [
    "print( f'The minimum mean score is {np.min(means)} at {locations[np.argmin(means)]}' )"
   ]
  },
  {
   "cell_type": "code",
   "execution_count": null,
   "metadata": {},
   "outputs": [],
   "source": [
    "SC = d.loc['CHARLESTON INTL. AIRPORT SC US',]\n",
    "X = SC[['HOURLYDRYBULBTEMPF', 'HOURLYDewPointTempF', 'HOURLYRelativeHumidity', \n",
    "               'HOURLYWindSpeed', 'HOURLYAltimeterSetting']]\n",
    "y = SC['Binary_Clouds']\n",
    "X_train, X_test, y_train, y_test = train_test_split(X, y, test_size = 0.20, random_state = 42)\n",
    "logmodel = LogisticRegression()\n",
    "logmodel.fit(X_train,y_train)\n",
    "predictions = logmodel.predict(X_test)\n",
    "print(classification_report(y_test, predictions))\n",
    "scores_accuracy = cross_val_score(logmodel, X, y, cv=10, scoring='accuracy')"
   ]
  },
  {
   "cell_type": "code",
   "execution_count": null,
   "metadata": {},
   "outputs": [],
   "source": [
    "#Minneapolis out of curiousity\n",
    "MN = d.loc['MINNEAPOLIS ST PAUL INTERNATIONAL AIRPORT MN US',]\n",
    "X = MN[['HOURLYDRYBULBTEMPF', 'HOURLYDewPointTempF', 'HOURLYRelativeHumidity', \n",
    "               'HOURLYWindSpeed', 'HOURLYAltimeterSetting']]\n",
    "y = MN['Binary_Clouds']\n",
    "X_train, X_test, y_train, y_test = train_test_split(X, y, test_size = 0.20, random_state = 42)\n",
    "logmodel = LogisticRegression()\n",
    "logmodel.fit(X_train,y_train)\n",
    "predictions = logmodel.predict(X_test)\n",
    "print(classification_report(y_test, predictions))\n",
    "scores_accuracy = cross_val_score(logmodel, X, y, cv=10, scoring='accuracy')"
   ]
  },
  {
   "cell_type": "markdown",
   "metadata": {},
   "source": [
    "### Brief Conclusion\n",
    "\n",
    "The results of logisitic regression for MPLS, Charleston and Alamosa are interesting.  In Minneapolis, it appears to be much easier to predict a cloudy day, and in ALAMOSA, it appears to be easier to predict a clear day. "
   ]
  },
  {
   "cell_type": "markdown",
   "metadata": {
    "collapsed": true
   },
   "source": [
    "# Gradient Boosting Model\n",
    "\n",
    "Let's compare the results of logisitic regression to a boosting model.\n"
   ]
  },
  {
   "cell_type": "code",
   "execution_count": null,
   "metadata": {
    "collapsed": true
   },
   "outputs": [],
   "source": [
    "#Reset x and y \n",
    "X = d[['HOURLYDRYBULBTEMPF', 'HOURLYDewPointTempF', 'HOURLYRelativeHumidity', \n",
    "               'HOURLYWindSpeed', 'HOURLYAltimeterSetting', 'HOURLYPrecip']]\n",
    "y = d['Binary_Clouds']"
   ]
  },
  {
   "cell_type": "code",
   "execution_count": null,
   "metadata": {
    "collapsed": true
   },
   "outputs": [],
   "source": [
    "X_train, X_test, y_train, y_test = train_test_split(X, y, test_size = 0.20, random_state = 7)"
   ]
  },
  {
   "cell_type": "code",
   "execution_count": null,
   "metadata": {
    "collapsed": true
   },
   "outputs": [],
   "source": [
    "from sklearn.ensemble import GradientBoostingClassifier"
   ]
  },
  {
   "cell_type": "code",
   "execution_count": null,
   "metadata": {
    "collapsed": true
   },
   "outputs": [],
   "source": [
    "boost = GradientBoostingClassifier(n_estimators = 100, random_state = 7)\n",
    "fit = boost.fit(X_train, y_train)"
   ]
  },
  {
   "cell_type": "code",
   "execution_count": null,
   "metadata": {
    "collapsed": true
   },
   "outputs": [],
   "source": [
    "predictions = fit.predict(X_test)"
   ]
  },
  {
   "cell_type": "code",
   "execution_count": null,
   "metadata": {
    "collapsed": true
   },
   "outputs": [],
   "source": [
    "scores_accuracy = cross_val_score(fit, X, y, cv=10, scoring='accuracy')"
   ]
  },
  {
   "cell_type": "code",
   "execution_count": null,
   "metadata": {},
   "outputs": [],
   "source": [
    "scores_accuracy"
   ]
  },
  {
   "cell_type": "code",
   "execution_count": null,
   "metadata": {},
   "outputs": [],
   "source": [
    "scores_accuracy.mean()"
   ]
  },
  {
   "cell_type": "code",
   "execution_count": null,
   "metadata": {
    "collapsed": true
   },
   "outputs": [],
   "source": [
    "#Appears comparable at a first glance"
   ]
  }
 ],
 "metadata": {
  "kernelspec": {
   "display_name": "Python 3",
   "language": "python",
   "name": "python3"
  },
  "language_info": {
   "codemirror_mode": {
    "name": "ipython",
    "version": 3
   },
   "file_extension": ".py",
   "mimetype": "text/x-python",
   "name": "python",
   "nbconvert_exporter": "python",
   "pygments_lexer": "ipython3",
   "version": "3.6.3"
  }
 },
 "nbformat": 4,
 "nbformat_minor": 2
}

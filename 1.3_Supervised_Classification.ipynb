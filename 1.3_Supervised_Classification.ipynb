{
 "cells": [
  {
   "cell_type": "markdown",
   "metadata": {},
   "source": [
    "## Text Parse Summary\n",
    "\n",
    "A binary variable was encoded to represent a 'cloudy' day and a 'clear' day.  Below are the encodings for the sky conditions, taken from the noaa website.\n",
    "\n",
    "0 oktas/0 tenths is defined as CLR (clear sky) \n",
    "1-2 oktas/1-3 tenths is defined as FEW (few clouds) \n",
    "3-4 oktas/4-5 tenths is defined as SCT (scattered clouds) \n",
    "5 to less than 8/6 to less than 10 is defined as BKN (broken clouds) \n",
    "8 oktas/10 tenths is defined as OVC (overcast) \n",
    "obscured sky due to weather phenonmen is defined as VV\n",
    "\n",
    "A clear day was defined as anything that contained CLR, FEW, or SCT clouds, while a cloudy day was defined as anything containing BKN, OVC, or VV.  "
   ]
  },
  {
   "cell_type": "code",
   "execution_count": 35,
   "metadata": {
    "collapsed": true
   },
   "outputs": [],
   "source": [
    "import pandas as pd\n",
    "import numpy as np\n",
    "import re\n",
    "import seaborn as sns\n",
    "import matplotlib.pyplot as plt\n",
    "import pickle\n",
    "%matplotlib inline"
   ]
  },
  {
   "cell_type": "code",
   "execution_count": 36,
   "metadata": {
    "collapsed": true
   },
   "outputs": [],
   "source": [
    "d = pd.read_pickle(\"hourlies.pickle\")"
   ]
  },
  {
   "cell_type": "code",
   "execution_count": 37,
   "metadata": {},
   "outputs": [
    {
     "name": "stdout",
     "output_type": "stream",
     "text": [
      "<class 'pandas.core.frame.DataFrame'>\n",
      "Index: 999341 entries, AKRON CANTON AIRPORT OH US to WICHITA DWIGHT D. EISENHOWER NATIONAL AIRPORT KS US\n",
      "Data columns (total 16 columns):\n",
      "STATION                   999341 non-null object\n",
      "ELEVATION                 999341 non-null float64\n",
      "LATITUDE                  999341 non-null float64\n",
      "LONGITUDE                 999341 non-null float64\n",
      "DATE                      999341 non-null datetime64[ns]\n",
      "REPORTTPYE                999341 non-null object\n",
      "HOURLYSKYCONDITIONS       999341 non-null object\n",
      "HOURLYDRYBULBTEMPF        999341 non-null float64\n",
      "HOURLYWETBULBTEMPF        999341 non-null float64\n",
      "HOURLYDewPointTempF       999341 non-null float64\n",
      "HOURLYRelativeHumidity    999341 non-null float64\n",
      "HOURLYWindSpeed           999341 non-null float64\n",
      "HOURLYWindDirection       999341 non-null object\n",
      "HOURLYStationPressure     999341 non-null float64\n",
      "HOURLYPrecip              999341 non-null float64\n",
      "HOURLYAltimeterSetting    999341 non-null float64\n",
      "dtypes: datetime64[ns](1), float64(11), object(4)\n",
      "memory usage: 129.6+ MB\n"
     ]
    }
   ],
   "source": [
    "d.info()"
   ]
  },
  {
   "cell_type": "markdown",
   "metadata": {},
   "source": [
    "#### Text parsing was used to assign weights for each sky condition."
   ]
  },
  {
   "cell_type": "code",
   "execution_count": 38,
   "metadata": {},
   "outputs": [
    {
     "data": {
      "text/plain": [
       "STATION_NAME\n",
       "AKRON CANTON AIRPORT OH US                       OVC:08 12\n",
       "AKRON CANTON AIRPORT OH US              BKN:07 7 OVC:08 10\n",
       "AKRON CANTON AIRPORT OH US                        OVC:08 7\n",
       "AKRON CANTON AIRPORT OH US                        OVC:08 7\n",
       "AKRON CANTON AIRPORT OH US    SCT:04 7 BKN:07 14 OVC:08 20\n",
       "Name: HOURLYSKYCONDITIONS, dtype: object"
      ]
     },
     "execution_count": 38,
     "metadata": {},
     "output_type": "execute_result"
    }
   ],
   "source": [
    "d['HOURLYSKYCONDITIONS'].head()"
   ]
  },
  {
   "cell_type": "code",
   "execution_count": 39,
   "metadata": {
    "collapsed": true
   },
   "outputs": [],
   "source": [
    "#Replace the ':' with a space to separate the conditions\n",
    "sky = d['HOURLYSKYCONDITIONS'].str.replace(':', \" \")"
   ]
  },
  {
   "cell_type": "code",
   "execution_count": 40,
   "metadata": {
    "collapsed": true
   },
   "outputs": [],
   "source": [
    "#Find each sky condition\n",
    "clr = sky.str.contains('CLR')\n",
    "few = sky.str.contains('FEW')\n",
    "sct = sky.str.contains('SCT')\n",
    "bkn = sky.str.contains('BKN')\n",
    "ovc = sky.str.contains('OVC')\n",
    "vv = sky.str.contains('VV')"
   ]
  },
  {
   "cell_type": "code",
   "execution_count": 41,
   "metadata": {
    "collapsed": true
   },
   "outputs": [],
   "source": [
    "#Find the average\n",
    "cloudy_average = (0*clr + 0.2*few + 0.45*sct + 0.7*bkn + 0.9*ovc + 1*vv)"
   ]
  },
  {
   "cell_type": "code",
   "execution_count": 42,
   "metadata": {
    "collapsed": true
   },
   "outputs": [],
   "source": [
    "#Set a threshold for a clear or cloudy day, where clear=0 and cloudy=1 \n",
    "binary_clouds = 1*(cloudy_average[:] > 0.65) + 0*(cloudy_average[:] <= 0.65)"
   ]
  },
  {
   "cell_type": "code",
   "execution_count": 43,
   "metadata": {
    "collapsed": true
   },
   "outputs": [],
   "source": [
    "#Add a new column to the data frame\n",
    "d['Binary_Clouds'] = binary_clouds"
   ]
  },
  {
   "cell_type": "markdown",
   "metadata": {},
   "source": [
    "## Intent of Logistic Regression\n",
    "\n",
    "The intent of the logistic model was to build a model that predicts the probability of a clear or cloudy day, both for all locations and then location by location.  A 80/20 train-test split was used and models were cross validated by way of 'accuracy'.  After a model was built for all locations, models were seperated by location to see if there were any highly-accurate models for prediction of a clear or cloudy day."
   ]
  },
  {
   "cell_type": "code",
   "execution_count": 44,
   "metadata": {
    "collapsed": true
   },
   "outputs": [],
   "source": [
    "from sklearn.model_selection import train_test_split, cross_val_score\n",
    "from sklearn.linear_model import LogisticRegression"
   ]
  },
  {
   "cell_type": "code",
   "execution_count": 45,
   "metadata": {
    "collapsed": true
   },
   "outputs": [],
   "source": [
    "#Group dowon to numerical values for logistic regression from the whole set\n",
    "X = d[['HOURLYDRYBULBTEMPF', 'HOURLYDewPointTempF', 'HOURLYRelativeHumidity', \n",
    "               'HOURLYWindSpeed', 'HOURLYAltimeterSetting', 'HOURLYPrecip']]\n",
    "y = d['Binary_Clouds']"
   ]
  },
  {
   "cell_type": "code",
   "execution_count": 46,
   "metadata": {
    "collapsed": true
   },
   "outputs": [],
   "source": [
    "X_train, X_test, y_train, y_test = train_test_split(X, y, test_size = 0.20, random_state = 42)"
   ]
  },
  {
   "cell_type": "code",
   "execution_count": 47,
   "metadata": {},
   "outputs": [
    {
     "data": {
      "text/plain": [
       "LogisticRegression(C=1.0, class_weight=None, dual=False, fit_intercept=True,\n",
       "          intercept_scaling=1, max_iter=100, multi_class='ovr', n_jobs=1,\n",
       "          penalty='l2', random_state=None, solver='liblinear', tol=0.0001,\n",
       "          verbose=0, warm_start=False)"
      ]
     },
     "execution_count": 47,
     "metadata": {},
     "output_type": "execute_result"
    }
   ],
   "source": [
    "logmodel = LogisticRegression()\n",
    "logmodel.fit(X_train,y_train)"
   ]
  },
  {
   "cell_type": "code",
   "execution_count": 48,
   "metadata": {
    "collapsed": true
   },
   "outputs": [],
   "source": [
    "predictions = logmodel.predict(X_test)"
   ]
  },
  {
   "cell_type": "code",
   "execution_count": 49,
   "metadata": {
    "collapsed": true
   },
   "outputs": [],
   "source": [
    "from sklearn.metrics import confusion_matrix, classification_report"
   ]
  },
  {
   "cell_type": "code",
   "execution_count": 50,
   "metadata": {},
   "outputs": [
    {
     "data": {
      "text/plain": [
       "array([[60374, 35088],\n",
       "       [24778, 79629]], dtype=int64)"
      ]
     },
     "execution_count": 50,
     "metadata": {},
     "output_type": "execute_result"
    }
   ],
   "source": [
    "confusion_matrix(y_test, predictions)"
   ]
  },
  {
   "cell_type": "code",
   "execution_count": 51,
   "metadata": {},
   "outputs": [
    {
     "name": "stdout",
     "output_type": "stream",
     "text": [
      "             precision    recall  f1-score   support\n",
      "\n",
      "          0       0.71      0.63      0.67     95462\n",
      "          1       0.69      0.76      0.73    104407\n",
      "\n",
      "avg / total       0.70      0.70      0.70    199869\n",
      "\n"
     ]
    }
   ],
   "source": [
    "#This model returns around a %70 percent accurary rate\n",
    "print(classification_report(y_test, predictions))  "
   ]
  },
  {
   "cell_type": "code",
   "execution_count": 52,
   "metadata": {},
   "outputs": [
    {
     "data": {
      "text/plain": [
       "array([0.68006204, 0.68519538, 0.772312  , 0.63826487, 0.67971861,\n",
       "       0.65494226, 0.65654332, 0.80870183, 0.69311439, 0.68041588])"
      ]
     },
     "execution_count": 52,
     "metadata": {},
     "output_type": "execute_result"
    }
   ],
   "source": [
    "#Cross-validation with 10-folds\n",
    "scores_accuracy = cross_val_score(logmodel, X, y, cv=10, scoring='accuracy')\n",
    "scores_accuracy"
   ]
  },
  {
   "cell_type": "code",
   "execution_count": 53,
   "metadata": {},
   "outputs": [
    {
     "data": {
      "text/plain": [
       "0.6949270582562523"
      ]
     },
     "execution_count": 53,
     "metadata": {},
     "output_type": "execute_result"
    }
   ],
   "source": [
    "#Mean of the cross validated models\n",
    "scores_accuracy.mean()"
   ]
  },
  {
   "cell_type": "code",
   "execution_count": 54,
   "metadata": {
    "collapsed": true
   },
   "outputs": [],
   "source": [
    "#Test logisitic regression on all cities.\n",
    "idx = d.index\n",
    "locations = np.unique(idx.tolist())"
   ]
  },
  {
   "cell_type": "code",
   "execution_count": 55,
   "metadata": {
    "collapsed": true
   },
   "outputs": [],
   "source": [
    "#Run the model for all locations and find means of the cross validated models\n",
    "means = []\n",
    "\n",
    "for i in locations:\n",
    "    place = d.loc[i,]\n",
    "    X = place[['HOURLYDRYBULBTEMPF', 'HOURLYDewPointTempF', 'HOURLYRelativeHumidity', \n",
    "               'HOURLYWindSpeed', 'HOURLYAltimeterSetting']]\n",
    "    y = place['Binary_Clouds']\n",
    "    logmodel = LogisticRegression()\n",
    "    X_train, X_test, y_train, y_test = train_test_split(X, y, test_size = 0.20, random_state = 42)\n",
    "    logmodel.fit(X_train,y_train)\n",
    "    scores_accuracy = cross_val_score(logmodel, X, y, cv=10, scoring='accuracy')\n",
    "    means.append(scores_accuracy.mean())"
   ]
  },
  {
   "cell_type": "code",
   "execution_count": 56,
   "metadata": {},
   "outputs": [
    {
     "data": {
      "text/plain": [
       "[0.7012575830088674,\n",
       " 0.7492733859506429,\n",
       " 0.6698509868438028,\n",
       " 0.8574668064181152,\n",
       " 0.7260851213721844,\n",
       " 0.7327762077559228,\n",
       " 0.6185311949101288,\n",
       " 0.7197857039332635,\n",
       " 0.6343126449859093,\n",
       " 0.754115908184928,\n",
       " 0.6736689009509176,\n",
       " 0.6696046449594284,\n",
       " 0.6696367917810078,\n",
       " 0.9195339057813326,\n",
       " 0.7116878370468414,\n",
       " 0.6647076670634027,\n",
       " 0.7601083794167944,\n",
       " 0.764368117470887,\n",
       " 0.6497821252926055]"
      ]
     },
     "execution_count": 56,
     "metadata": {},
     "output_type": "execute_result"
    }
   ],
   "source": [
    "means"
   ]
  },
  {
   "cell_type": "code",
   "execution_count": 57,
   "metadata": {},
   "outputs": [
    {
     "name": "stdout",
     "output_type": "stream",
     "text": [
      "The maximum mean score is 0.9195339057813326 at MERCURY DESERT ROCK AIRPORT NV US\n"
     ]
    }
   ],
   "source": [
    "print( f'The maximum mean score is {np.max(means)} at {locations[np.argmax(means)]}' )"
   ]
  },
  {
   "cell_type": "code",
   "execution_count": 58,
   "metadata": {},
   "outputs": [
    {
     "name": "stdout",
     "output_type": "stream",
     "text": [
      "             precision    recall  f1-score   support\n",
      "\n",
      "          0       0.93      0.98      0.96      7469\n",
      "          1       0.73      0.40      0.52       860\n",
      "\n",
      "avg / total       0.91      0.92      0.91      8329\n",
      "\n"
     ]
    }
   ],
   "source": [
    "#Explore for the maxixmum mean score\n",
    "#Run for Albuquerque\n",
    "NV = d.loc['MERCURY DESERT ROCK AIRPORT NV US',]\n",
    "X = NV[['HOURLYDRYBULBTEMPF', 'HOURLYDewPointTempF', 'HOURLYRelativeHumidity', \n",
    "               'HOURLYWindSpeed', 'HOURLYAltimeterSetting']]\n",
    "y = NV['Binary_Clouds']\n",
    "X_train, X_test, y_train, y_test = train_test_split(X, y, test_size = 0.20, random_state = 42)\n",
    "logmodel = LogisticRegression()\n",
    "logmodel.fit(X_train,y_train)\n",
    "predictions = logmodel.predict(X_test)\n",
    "print(classification_report(y_test, predictions))\n",
    "scores_accuracy = cross_val_score(logmodel, X, y, cv=10, scoring='accuracy')"
   ]
  },
  {
   "cell_type": "code",
   "execution_count": 59,
   "metadata": {},
   "outputs": [
    {
     "name": "stdout",
     "output_type": "stream",
     "text": [
      "The minimum mean score is 0.6185311949101288 at CHARLESTON INTL. AIRPORT SC US\n"
     ]
    }
   ],
   "source": [
    "print( f'The minimum mean score is {np.min(means)} at {locations[np.argmin(means)]}' )"
   ]
  },
  {
   "cell_type": "code",
   "execution_count": 60,
   "metadata": {},
   "outputs": [
    {
     "name": "stdout",
     "output_type": "stream",
     "text": [
      "             precision    recall  f1-score   support\n",
      "\n",
      "          0       0.67      0.66      0.66      5572\n",
      "          1       0.63      0.64      0.63      5068\n",
      "\n",
      "avg / total       0.65      0.65      0.65     10640\n",
      "\n"
     ]
    }
   ],
   "source": [
    "SC = d.loc['CHARLESTON INTL. AIRPORT SC US',]\n",
    "X = SC[['HOURLYDRYBULBTEMPF', 'HOURLYDewPointTempF', 'HOURLYRelativeHumidity', \n",
    "               'HOURLYWindSpeed', 'HOURLYAltimeterSetting']]\n",
    "y = SC['Binary_Clouds']\n",
    "X_train, X_test, y_train, y_test = train_test_split(X, y, test_size = 0.20, random_state = 42)\n",
    "logmodel = LogisticRegression()\n",
    "logmodel.fit(X_train,y_train)\n",
    "predictions = logmodel.predict(X_test)\n",
    "print(classification_report(y_test, predictions))\n",
    "scores_accuracy = cross_val_score(logmodel, X, y, cv=10, scoring='accuracy')"
   ]
  },
  {
   "cell_type": "code",
   "execution_count": 61,
   "metadata": {},
   "outputs": [
    {
     "name": "stdout",
     "output_type": "stream",
     "text": [
      "             precision    recall  f1-score   support\n",
      "\n",
      "          0       0.59      0.45      0.51      3699\n",
      "          1       0.76      0.85      0.80      7498\n",
      "\n",
      "avg / total       0.70      0.72      0.71     11197\n",
      "\n"
     ]
    }
   ],
   "source": [
    "#Minneapolis out of curiousity\n",
    "MN = d.loc['MINNEAPOLIS ST PAUL INTERNATIONAL AIRPORT MN US',]\n",
    "X = MN[['HOURLYDRYBULBTEMPF', 'HOURLYDewPointTempF', 'HOURLYRelativeHumidity', \n",
    "               'HOURLYWindSpeed', 'HOURLYAltimeterSetting']]\n",
    "y = MN['Binary_Clouds']\n",
    "X_train, X_test, y_train, y_test = train_test_split(X, y, test_size = 0.20, random_state = 42)\n",
    "logmodel = LogisticRegression()\n",
    "logmodel.fit(X_train,y_train)\n",
    "predictions = logmodel.predict(X_test)\n",
    "print(classification_report(y_test, predictions))\n",
    "scores_accuracy = cross_val_score(logmodel, X, y, cv=10, scoring='accuracy')"
   ]
  },
  {
   "cell_type": "markdown",
   "metadata": {},
   "source": [
    "### Brief Conclusion\n",
    "\n",
    "The results of logisitic regression for MPLS, Charleston and Alamosa are interesting.  In Minneapolis, it appears to be much easier to predict a cloudy day, and in ALAMOSA, it appears to be easier to predict a clear day. "
   ]
  },
  {
   "cell_type": "markdown",
   "metadata": {
    "collapsed": true
   },
   "source": [
    "# Gradient Boosting Model\n",
    "\n",
    "Let's compare the results of logisitic regression to a boosting model.\n"
   ]
  },
  {
   "cell_type": "code",
   "execution_count": 62,
   "metadata": {
    "collapsed": true
   },
   "outputs": [],
   "source": [
    "#Reset x and y \n",
    "X = d[['HOURLYDRYBULBTEMPF', 'HOURLYDewPointTempF', 'HOURLYRelativeHumidity', \n",
    "               'HOURLYWindSpeed', 'HOURLYAltimeterSetting', 'HOURLYPrecip']]\n",
    "y = d['Binary_Clouds']"
   ]
  },
  {
   "cell_type": "code",
   "execution_count": 63,
   "metadata": {
    "collapsed": true
   },
   "outputs": [],
   "source": [
    "X_train, X_test, y_train, y_test = train_test_split(X, y, test_size = 0.20, random_state = 7)"
   ]
  },
  {
   "cell_type": "code",
   "execution_count": 64,
   "metadata": {
    "collapsed": true
   },
   "outputs": [],
   "source": [
    "from sklearn.ensemble import GradientBoostingClassifier"
   ]
  },
  {
   "cell_type": "code",
   "execution_count": 65,
   "metadata": {
    "collapsed": true
   },
   "outputs": [],
   "source": [
    "boost = GradientBoostingClassifier(n_estimators = 100, random_state = 7)\n",
    "fit = boost.fit(X_train, y_train)"
   ]
  },
  {
   "cell_type": "code",
   "execution_count": 66,
   "metadata": {
    "collapsed": true
   },
   "outputs": [],
   "source": [
    "predictions = fit.predict(X_test)"
   ]
  },
  {
   "cell_type": "code",
   "execution_count": 67,
   "metadata": {
    "collapsed": true
   },
   "outputs": [],
   "source": [
    "scores_accuracy = cross_val_score(fit, X, y, cv=10, scoring='accuracy')"
   ]
  },
  {
   "cell_type": "code",
   "execution_count": 68,
   "metadata": {},
   "outputs": [
    {
     "data": {
      "text/plain": [
       "array([0.69804373, 0.67420824, 0.7986191 , 0.65832791, 0.69146637,\n",
       "       0.66676006, 0.68070927, 0.81050304, 0.68962205, 0.68846127])"
      ]
     },
     "execution_count": 68,
     "metadata": {},
     "output_type": "execute_result"
    }
   ],
   "source": [
    "scores_accuracy"
   ]
  },
  {
   "cell_type": "code",
   "execution_count": 69,
   "metadata": {},
   "outputs": [
    {
     "data": {
      "text/plain": [
       "0.7056721029753373"
      ]
     },
     "execution_count": 69,
     "metadata": {},
     "output_type": "execute_result"
    }
   ],
   "source": [
    "scores_accuracy.mean()"
   ]
  },
  {
   "cell_type": "code",
   "execution_count": 70,
   "metadata": {
    "collapsed": true
   },
   "outputs": [],
   "source": [
    "#Appears comparable at a first glance"
   ]
  }
 ],
 "metadata": {
  "kernelspec": {
   "display_name": "Python 3",
   "language": "python",
   "name": "python3"
  },
  "language_info": {
   "codemirror_mode": {
    "name": "ipython",
    "version": 3
   },
   "file_extension": ".py",
   "mimetype": "text/x-python",
   "name": "python",
   "nbconvert_exporter": "python",
   "pygments_lexer": "ipython3",
   "version": "3.6.3"
  }
 },
 "nbformat": 4,
 "nbformat_minor": 2
}

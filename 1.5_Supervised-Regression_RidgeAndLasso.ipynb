{
 "cells": [
  {
   "cell_type": "code",
   "execution_count": 4,
   "metadata": {
    "collapsed": true
   },
   "outputs": [],
   "source": [
    "import pandas as pd\n",
    "import numpy as np\n",
    "import seaborn as sns\n",
    "import matplotlib.pyplot as plt\n",
    "import pickle\n",
    "%matplotlib inline"
   ]
  },
  {
   "cell_type": "code",
   "execution_count": 5,
   "metadata": {
    "collapsed": true
   },
   "outputs": [],
   "source": [
    "d = pd.read_pickle('hourlies.pickle')"
   ]
  },
  {
   "cell_type": "code",
   "execution_count": 6,
   "metadata": {
    "collapsed": true
   },
   "outputs": [],
   "source": [
    "#Prepare numvars for Regression, include both AltimeterSetting and StationPressure\n",
    "numvars = d.loc[:,['ELEVATION','DATE', 'LATITUDE','HOURLYDRYBULBTEMPF', 'HOURLYDewPointTempF',\n",
    "                   'HOURLYRelativeHumidity', 'HOURLYWindSpeed','HOURLYStationPressure',\n",
    "                   'HOURLYAltimeterSetting', 'HOURLYPrecip']]"
   ]
  },
  {
   "cell_type": "code",
   "execution_count": 7,
   "metadata": {
    "collapsed": true
   },
   "outputs": [],
   "source": [
    "from sklearn import linear_model\n",
    "from sklearn.metrics import mean_squared_error, r2_score, explained_variance_score\n",
    "from sklearn.model_selection import train_test_split"
   ]
  },
  {
   "cell_type": "code",
   "execution_count": 8,
   "metadata": {
    "collapsed": true
   },
   "outputs": [],
   "source": [
    "#Try to predict Temperature\n",
    "X = numvars.loc[:,['HOURLYWindSpeed','HOURLYRelativeHumidity','ELEVATION', 'LATITUDE', 'HOURLYStationPressure',\n",
    "                    'HOURLYAltimeterSetting', 'HOURLYPrecip']]\n",
    "y = numvars['HOURLYDRYBULBTEMPF']"
   ]
  },
  {
   "cell_type": "code",
   "execution_count": 9,
   "metadata": {
    "collapsed": true
   },
   "outputs": [],
   "source": [
    "#make train, test split\n",
    "X_train, X_test, y_train, y_test = train_test_split(X, y, test_size=0.2, random_state=101)"
   ]
  },
  {
   "cell_type": "code",
   "execution_count": 10,
   "metadata": {
    "collapsed": true
   },
   "outputs": [],
   "source": [
    "from sklearn.linear_model import LinearRegression"
   ]
  },
  {
   "cell_type": "code",
   "execution_count": 11,
   "metadata": {
    "collapsed": true
   },
   "outputs": [],
   "source": [
    "lm = LinearRegression(normalize = True)"
   ]
  },
  {
   "cell_type": "code",
   "execution_count": 12,
   "metadata": {},
   "outputs": [
    {
     "data": {
      "text/plain": [
       "LinearRegression(copy_X=True, fit_intercept=True, n_jobs=1, normalize=True)"
      ]
     },
     "execution_count": 12,
     "metadata": {},
     "output_type": "execute_result"
    }
   ],
   "source": [
    "lm.fit(X_train, y_train)"
   ]
  },
  {
   "cell_type": "code",
   "execution_count": 13,
   "metadata": {},
   "outputs": [
    {
     "data": {
      "text/html": [
       "<div>\n",
       "<style scoped>\n",
       "    .dataframe tbody tr th:only-of-type {\n",
       "        vertical-align: middle;\n",
       "    }\n",
       "\n",
       "    .dataframe tbody tr th {\n",
       "        vertical-align: top;\n",
       "    }\n",
       "\n",
       "    .dataframe thead th {\n",
       "        text-align: right;\n",
       "    }\n",
       "</style>\n",
       "<table border=\"1\" class=\"dataframe\">\n",
       "  <thead>\n",
       "    <tr style=\"text-align: right;\">\n",
       "      <th></th>\n",
       "      <th>Coeffecient</th>\n",
       "    </tr>\n",
       "  </thead>\n",
       "  <tbody>\n",
       "    <tr>\n",
       "      <th>HOURLYWindSpeed</th>\n",
       "      <td>-0.344546</td>\n",
       "    </tr>\n",
       "    <tr>\n",
       "      <th>HOURLYRelativeHumidity</th>\n",
       "      <td>-0.365859</td>\n",
       "    </tr>\n",
       "    <tr>\n",
       "      <th>ELEVATION</th>\n",
       "      <td>-0.067664</td>\n",
       "    </tr>\n",
       "    <tr>\n",
       "      <th>LATITUDE</th>\n",
       "      <td>-1.560593</td>\n",
       "    </tr>\n",
       "    <tr>\n",
       "      <th>HOURLYStationPressure</th>\n",
       "      <td>-18.391523</td>\n",
       "    </tr>\n",
       "    <tr>\n",
       "      <th>HOURLYAltimeterSetting</th>\n",
       "      <td>-4.856323</td>\n",
       "    </tr>\n",
       "    <tr>\n",
       "      <th>HOURLYPrecip</th>\n",
       "      <td>0.002202</td>\n",
       "    </tr>\n",
       "  </tbody>\n",
       "</table>\n",
       "</div>"
      ],
      "text/plain": [
       "                        Coeffecient\n",
       "HOURLYWindSpeed           -0.344546\n",
       "HOURLYRelativeHumidity    -0.365859\n",
       "ELEVATION                 -0.067664\n",
       "LATITUDE                  -1.560593\n",
       "HOURLYStationPressure    -18.391523\n",
       "HOURLYAltimeterSetting    -4.856323\n",
       "HOURLYPrecip               0.002202"
      ]
     },
     "execution_count": 13,
     "metadata": {},
     "output_type": "execute_result"
    }
   ],
   "source": [
    "coeffecients = pd.DataFrame(lm.coef_,X.columns)\n",
    "coeffecients.columns = ['Coeffecient']\n",
    "coeffecients"
   ]
  },
  {
   "cell_type": "code",
   "execution_count": 14,
   "metadata": {
    "collapsed": true
   },
   "outputs": [],
   "source": [
    "predictions = lm.predict( X_test)"
   ]
  },
  {
   "cell_type": "markdown",
   "metadata": {},
   "source": [
    "## This model appears to be quite terrible for predictions, although HourlyAltimeterSetting and Latitude do appear to hold some weight in the model."
   ]
  },
  {
   "cell_type": "code",
   "execution_count": 15,
   "metadata": {},
   "outputs": [
    {
     "name": "stdout",
     "output_type": "stream",
     "text": [
      "MSE: 294.7082693889124\n",
      "R2: 0.3650156418017403\n",
      "FVE: 0.3650166599575909\n"
     ]
    }
   ],
   "source": [
    "print('MSE:', mean_squared_error(y_test, predictions))\n",
    "print('R2:', r2_score(y_test, predictions))\n",
    "print('FVE:', explained_variance_score(y_test, predictions))"
   ]
  },
  {
   "cell_type": "code",
   "execution_count": 16,
   "metadata": {
    "collapsed": true
   },
   "outputs": [],
   "source": [
    "#Let's see what Ridge comes up with\n",
    "from sklearn.linear_model import Ridge, RidgeCV"
   ]
  },
  {
   "cell_type": "code",
   "execution_count": 17,
   "metadata": {
    "collapsed": true
   },
   "outputs": [],
   "source": [
    "#make some alphas\n",
    "alphas = np.linspace(0.001, 200, 100)"
   ]
  },
  {
   "cell_type": "code",
   "execution_count": 18,
   "metadata": {
    "collapsed": true
   },
   "outputs": [],
   "source": [
    "ridge = Ridge(normalize = True)"
   ]
  },
  {
   "cell_type": "code",
   "execution_count": 19,
   "metadata": {
    "collapsed": true
   },
   "outputs": [],
   "source": [
    "#Store selection of coefs\n",
    "coef = []"
   ]
  },
  {
   "cell_type": "code",
   "execution_count": 20,
   "metadata": {
    "collapsed": true
   },
   "outputs": [],
   "source": [
    "for i in alphas:\n",
    "    ridge.set_params(alpha = i)\n",
    "    ridge.fit(X,y)\n",
    "    coef.append(ridge.coef_)"
   ]
  },
  {
   "cell_type": "code",
   "execution_count": 21,
   "metadata": {},
   "outputs": [
    {
     "data": {
      "text/plain": [
       "Text(0,0.5,'weights on coefficients')"
      ]
     },
     "execution_count": 21,
     "metadata": {},
     "output_type": "execute_result"
    },
    {
     "data": {
      "image/png": "[encoded data removed]",
      "text/plain": [
       "<matplotlib.figure.Figure at 0x1efaacd4080>"
      ]
     },
     "metadata": {},
     "output_type": "display_data"
    }
   ],
   "source": [
    "#Plot the coefficients for values of alhpa\n",
    "ax = plt.gca()\n",
    "ax.plot(alphas, coef)\n",
    "plt.axis('tight')\n",
    "plt.xlabel('alpha')\n",
    "plt.ylabel('weights on coefficients')\n"
   ]
  },
  {
   "cell_type": "code",
   "execution_count": 22,
   "metadata": {
    "collapsed": true
   },
   "outputs": [],
   "source": [
    "#Choose the best alpha with cross validation\n",
    "ridgecv = RidgeCV(alphas = alphas, scoring = 'neg_mean_squared_error', \n",
    "                  normalize = True)\n",
    "ridgecv.fit(X_train, y_train)\n",
    "bestalpha = ridgecv.alpha_"
   ]
  },
  {
   "cell_type": "code",
   "execution_count": 23,
   "metadata": {},
   "outputs": [
    {
     "name": "stdout",
     "output_type": "stream",
     "text": [
      "bestalpha: 0.001\n"
     ]
    },
    {
     "data": {
      "text/plain": [
       "array([-3.46688127e-01, -3.75676004e-01, -2.45728865e-02, -1.50949129e+00,\n",
       "       -5.10217161e+00, -1.77125731e+01,  2.21672365e-03])"
      ]
     },
     "execution_count": 23,
     "metadata": {},
     "output_type": "execute_result"
    }
   ],
   "source": [
    "print(f'bestalpha:',bestalpha)\n",
    "ridge.set_params(alpha = bestalpha)\n",
    "ridge.fit(X,y)\n",
    "ridge.coef_"
   ]
  },
  {
   "cell_type": "code",
   "execution_count": 24,
   "metadata": {
    "collapsed": true
   },
   "outputs": [],
   "source": [
    "from sklearn.linear_model import Lasso, LassoCV"
   ]
  },
  {
   "cell_type": "code",
   "execution_count": 25,
   "metadata": {
    "collapsed": true
   },
   "outputs": [],
   "source": [
    "lasso = Lasso(max_iter = 1000, normalize = True)\n",
    "coef_lasso = []\n",
    "alphas = np.linspace(0.001, 200, 100)"
   ]
  },
  {
   "cell_type": "code",
   "execution_count": 26,
   "metadata": {
    "collapsed": true
   },
   "outputs": [],
   "source": [
    "for a in alphas:\n",
    "    lasso.set_params(alpha = a)\n",
    "    lasso.fit(X_train, y_train)\n",
    "    coef_lasso.append(lasso.coef_)\n",
    "    "
   ]
  },
  {
   "cell_type": "code",
   "execution_count": 27,
   "metadata": {},
   "outputs": [
    {
     "data": {
      "text/plain": [
       "Text(0,0.5,'weights on coefficients')"
      ]
     },
     "execution_count": 27,
     "metadata": {},
     "output_type": "execute_result"
    },
    {
     "data": {
      "image/png": "[encoded data removed]",
      "text/plain": [
       "<matplotlib.figure.Figure at 0x1efaad4e1d0>"
      ]
     },
     "metadata": {},
     "output_type": "display_data"
    }
   ],
   "source": [
    "ax = plt.gca()\n",
    "ax.plot(alphas, coef_lasso)\n",
    "plt.axis('tight')\n",
    "plt.xlabel('alpha')\n",
    "plt.ylabel('weights on coefficients')"
   ]
  },
  {
   "cell_type": "code",
   "execution_count": 28,
   "metadata": {},
   "outputs": [
    {
     "data": {
      "text/plain": [
       "LassoCV(alphas=array([1.00000e-03, 2.02119e+00, ..., 1.97980e+02, 2.00000e+02]),\n",
       "    copy_X=True, cv=10, eps=0.001, fit_intercept=True, max_iter=1000,\n",
       "    n_alphas=100, n_jobs=1, normalize=True, positive=False,\n",
       "    precompute='auto', random_state=None, selection='cyclic', tol=0.0001,\n",
       "    verbose=False)"
      ]
     },
     "execution_count": 28,
     "metadata": {},
     "output_type": "execute_result"
    }
   ],
   "source": [
    "#cross validation on alpha\n",
    "lassocv = LassoCV(alphas = alphas, cv = 10, max_iter = 1000, normalize = True)\n",
    "lassocv.fit(X_train, y_train)"
   ]
  },
  {
   "cell_type": "code",
   "execution_count": 29,
   "metadata": {},
   "outputs": [
    {
     "data": {
      "text/plain": [
       "302.35396940966626"
      ]
     },
     "execution_count": 29,
     "metadata": {},
     "output_type": "execute_result"
    }
   ],
   "source": [
    "lasso.set_params(alpha = lassocv.alpha_)\n",
    "lasso.fit(X_train, y_train)\n",
    "mean_squared_error(y_test, lasso.predict(X_test))"
   ]
  },
  {
   "cell_type": "code",
   "execution_count": 30,
   "metadata": {},
   "outputs": [
    {
     "data": {
      "text/plain": [
       "HOURLYWindSpeed           -0.085195\n",
       "HOURLYRelativeHumidity    -0.299911\n",
       "ELEVATION                 -0.006102\n",
       "LATITUDE                  -1.356189\n",
       "HOURLYStationPressure      0.000000\n",
       "HOURLYAltimeterSetting   -15.890607\n",
       "HOURLYPrecip               0.000000\n",
       "dtype: float64"
      ]
     },
     "execution_count": 30,
     "metadata": {},
     "output_type": "execute_result"
    }
   ],
   "source": [
    "pd.Series(lasso.coef_, index = X.columns)"
   ]
  },
  {
   "cell_type": "markdown",
   "metadata": {
    "collapsed": true
   },
   "source": [
    "## The lasso results are a little more interesting and indicate that StationPressure, Precip, and Elevation (to some extent) have little effect on the (already poor) linear model.  Let's try simple linear regression again, but this time by those variables and separate the locations to see if we can get better results. "
   ]
  },
  {
   "cell_type": "code",
   "execution_count": 31,
   "metadata": {},
   "outputs": [
    {
     "data": {
      "text/plain": [
       "['AKRON CANTON AIRPORT OH US',\n",
       " 'ALAMOSA SAN LUIS VALLEY REGIONAL AIRPORT CO US',\n",
       " 'ALBUQUERQUE INTERNATIONAL AIRPORT NM US',\n",
       " 'BEND MUNICIPAL AIRPORT OR US',\n",
       " 'BURLINGTON WEATHER SERVICE OFFICE AIRPORT VT US',\n",
       " 'CARIBOU WEATHER FORECAST OFFICE ME US',\n",
       " 'CHARLESTON INTL. AIRPORT SC US',\n",
       " 'DETROIT CITY AIRPORT MI US',\n",
       " 'GRAND FORKS INTERNATIONAL AIRPORT ND US',\n",
       " 'GREAT FALLS AIRPORT MT US',\n",
       " 'HOUSTON WILLIAM P HOBBY AIRPORT TX US',\n",
       " 'HUNTSVILLE INTERNATIONAL AIRPORT JONES FIELD AL US',\n",
       " 'JACKSONVILLE INTERNATIONAL AIRPORT FL US',\n",
       " 'MERCURY DESERT ROCK AIRPORT NV US',\n",
       " 'MINNEAPOLIS ST PAUL INTERNATIONAL AIRPORT MN US',\n",
       " 'NEW ORLEANS AIRPORT LA US',\n",
       " 'POCATELLO REGIONAL AIRPORT ID US',\n",
       " 'SEATTLE TACOMA INTERNATIONAL AIRPORT WA US',\n",
       " 'WICHITA DWIGHT D. EISENHOWER NATIONAL AIRPORT KS US']"
      ]
     },
     "execution_count": 31,
     "metadata": {},
     "output_type": "execute_result"
    }
   ],
   "source": [
    "coef_linear = []\n",
    "MSEs = []\n",
    "fves = []\n",
    "locations = list(np.unique(d.index))\n",
    "locations"
   ]
  },
  {
   "cell_type": "code",
   "execution_count": 32,
   "metadata": {
    "collapsed": true
   },
   "outputs": [],
   "source": [
    "for state in locations:\n",
    "    X = numvars.loc[state,['HOURLYRelativeHumidity', 'HOURLYWindSpeed',\n",
    "                   'LATITUDE','HOURLYAltimeterSetting']]\n",
    "    y = numvars.loc[state,'HOURLYDRYBULBTEMPF']\n",
    "    X_train, X_test, y_train, y_test = train_test_split(X, y, test_size=0.2, random_state=101)\n",
    "    linear = LinearRegression(normalize = True)\n",
    "    linear.fit(X_train, y_train)\n",
    "    coef_linear.append(linear.coef_)\n",
    "    predictions = linear.predict(X_test)\n",
    "    MSEs.append(mean_squared_error(y_test, predictions))\n",
    "    fves.append(explained_variance_score(y_test, predictions))\n"
   ]
  },
  {
   "cell_type": "code",
   "execution_count": 33,
   "metadata": {},
   "outputs": [
    {
     "name": "stdout",
     "output_type": "stream",
     "text": [
      "[339.2469815661278, 261.8768709950602, 231.6221142366207, 100.82722495865218, 408.15642860307355, 428.54736705117125, 175.1977781120756, 351.58920542778384, 441.2490065311388, 244.59800321540098, 105.74483725047915, 216.58992613782289, 121.15637110631228, 185.65079752543568, 418.4423234139962, 112.00943376749733, 169.1666885007337, 81.2299273481259, 294.1159403554994]\n"
     ]
    }
   ],
   "source": [
    "print(MSEs)"
   ]
  },
  {
   "cell_type": "code",
   "execution_count": 34,
   "metadata": {},
   "outputs": [
    {
     "name": "stdout",
     "output_type": "stream",
     "text": [
      "[0.13545534059711073, 0.4667874893780033, 0.2623270314763366, 0.686313928469451, 0.05632162521990691, 0.014558014887673831, 0.14670940830297718, 0.13280911955209973, 0.28494163217485247, 0.4641427961861322, 0.3951093025874274, 0.20151141991088206, 0.2319462066050807, 0.4658964947816442, 0.20337500168751288, 0.3257189195518998, 0.6171223194275703, 0.3696635572935597, 0.26666258996651526]\n"
     ]
    }
   ],
   "source": [
    "print(fves)"
   ]
  },
  {
   "cell_type": "code",
   "execution_count": 35,
   "metadata": {},
   "outputs": [
    {
     "name": "stdout",
     "output_type": "stream",
     "text": [
      "It seems like the linear model at BEND MUNICIPAL AIRPORT OR US may hold some promise, but several were terrible, including BURLINGTON WEATHER SERVICE OFFICE AIRPORT VT US and CARIBOU WEATHER FORECAST OFFICE ME US\n"
     ]
    }
   ],
   "source": [
    "print(f'It seems like the linear model at {locations[3]} may hold some promise, but several were terrible, including {locations[4]} and {locations[5]}')"
   ]
  },
  {
   "cell_type": "markdown",
   "metadata": {},
   "source": [
    "## Conclusion\n",
    "\n",
    "The results of the Ridge and Lasso appeared to make sense.  From a scientific point of view, I do not understand why AltimeterSetting holds the most weight in a linear model and appears to be correlated with temperature.  It seems that a linear model could produce some results that are better than average in Bend, Oregon, but are absolutely terrible than average in all of the other locations (New Orleans was also better than average)."
   ]
  }
 ],
 "metadata": {
  "kernelspec": {
   "display_name": "Python 3",
   "language": "python",
   "name": "python3"
  },
  "language_info": {
   "codemirror_mode": {
    "name": "ipython",
    "version": 3
   },
   "file_extension": ".py",
   "mimetype": "text/x-python",
   "name": "python",
   "nbconvert_exporter": "python",
   "pygments_lexer": "ipython3",
   "version": "3.6.3"
  }
 },
 "nbformat": 4,
 "nbformat_minor": 2
}

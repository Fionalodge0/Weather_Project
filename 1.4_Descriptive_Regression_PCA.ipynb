{
 "cells": [
  {
   "cell_type": "code",
   "execution_count": 1,
   "metadata": {
    "collapsed": true
   },
   "outputs": [],
   "source": [
    "import pandas as pd\n",
    "import numpy as np\n",
    "import seaborn as sns\n",
    "import matplotlib.pyplot as plt\n",
    "import pickle\n",
    "%matplotlib inline"
   ]
  },
  {
   "cell_type": "code",
   "execution_count": 2,
   "metadata": {
    "collapsed": true
   },
   "outputs": [],
   "source": [
    "d = pd.read_pickle(\"hourlies.pickle\")"
   ]
  },
  {
   "cell_type": "code",
   "execution_count": 3,
   "metadata": {
    "collapsed": true
   },
   "outputs": [],
   "source": [
    "X = d[['ELEVATION', 'LATITUDE', 'LONGITUDE', 'HOURLYDRYBULBTEMPF', 'HOURLYDewPointTempF', 'HOURLYRelativeHumidity', \n",
    "               'HOURLYWindSpeed', 'HOURLYStationPressure','HOURLYAltimeterSetting', 'HOURLYPrecip']]"
   ]
  },
  {
   "cell_type": "code",
   "execution_count": 4,
   "metadata": {
    "collapsed": true
   },
   "outputs": [],
   "source": [
    "from sklearn.preprocessing import StandardScaler"
   ]
  },
  {
   "cell_type": "code",
   "execution_count": 5,
   "metadata": {},
   "outputs": [],
   "source": [
    "scaler = StandardScaler(with_mean = True)\n",
    "scaler.fit(X)\n",
    "scaled_X = scaler.transform(X)"
   ]
  },
  {
   "cell_type": "code",
   "execution_count": 6,
   "metadata": {},
   "outputs": [
    {
     "data": {
      "text/plain": [
       "PCA(copy=True, iterated_power='auto', n_components=9, random_state=None,\n",
       "  svd_solver='auto', tol=0.0, whiten=False)"
      ]
     },
     "execution_count": 6,
     "metadata": {},
     "output_type": "execute_result"
    }
   ],
   "source": [
    "from sklearn.decomposition import PCA\n",
    "pca = PCA(n_components=9)\n",
    "pca.fit(scaled_X)"
   ]
  },
  {
   "cell_type": "code",
   "execution_count": 7,
   "metadata": {},
   "outputs": [
    {
     "name": "stdout",
     "output_type": "stream",
     "text": [
      "[[ 0.49878342  0.21179254 -0.3729226  -0.26168828 -0.41597062 -0.25307404\n",
      "   0.05677935 -0.49564996  0.11093477 -0.0230144 ]\n",
      " [-0.23329209  0.41716736  0.24718263 -0.61469122 -0.39859759  0.34430634\n",
      "  -0.01068428  0.23083    -0.04099534 -0.00987356]\n",
      " [-0.06079436  0.26289867  0.00872853  0.12232656  0.01405906 -0.17949453\n",
      "   0.67349066 -0.01077611 -0.65125172  0.04356395]\n",
      " [ 0.17354078  0.10957605 -0.18442262 -0.01518162  0.23710192  0.47484784\n",
      "  -0.26910927 -0.20884843 -0.33486055  0.64324774]\n",
      " [-0.11482138 -0.14682929  0.14968165 -0.0318383  -0.21521386 -0.34502466\n",
      "   0.24484057  0.15140442  0.33948782  0.76049835]\n",
      " [-0.23452899  0.67299916 -0.28756621  0.26987288  0.06397235 -0.36617746\n",
      "  -0.37442781  0.22536694  0.05611964  0.06502557]\n",
      " [-0.1260936   0.08058605 -0.59796206 -0.0303189   0.20041793  0.37937338\n",
      "   0.47957947  0.16234285  0.42141649 -0.0330665 ]\n",
      " [ 0.28927295  0.46778849  0.55021288  0.19163223  0.3030902   0.14069877\n",
      "   0.20101701 -0.24104858  0.38450026 -0.00504466]\n",
      " [-0.020356    0.01186984  0.01449718  0.65326378 -0.65496358  0.37795016\n",
      "   0.01023975 -0.0083792   0.02190575 -0.00157255]]\n"
     ]
    }
   ],
   "source": [
    "print(pca.components_)"
   ]
  },
  {
   "cell_type": "code",
   "execution_count": 8,
   "metadata": {},
   "outputs": [
    {
     "name": "stdout",
     "output_type": "stream",
     "text": [
      "[3.08786486 1.83719475 1.31978578 1.02060214 0.98498906 0.71679867\n",
      " 0.61486815 0.40400376 0.01353633]\n"
     ]
    }
   ],
   "source": [
    "print(pca.explained_variance_)"
   ]
  },
  {
   "cell_type": "code",
   "execution_count": 9,
   "metadata": {},
   "outputs": [
    {
     "name": "stdout",
     "output_type": "stream",
     "text": [
      "[0.30878618 0.18371929 0.13197845 0.10206011 0.09849881 0.0716798\n",
      " 0.06148675 0.04040034 0.00135363]\n"
     ]
    }
   ],
   "source": [
    "print(pca.explained_variance_ratio_)\n"
   ]
  },
  {
   "cell_type": "code",
   "execution_count": 10,
   "metadata": {},
   "outputs": [
    {
     "data": {
      "text/plain": [
       "array([0.30878618, 0.49250547, 0.62448391, 0.72654403, 0.82504283,\n",
       "       0.89672263, 0.95820938, 0.99860972, 0.99996335])"
      ]
     },
     "execution_count": 10,
     "metadata": {},
     "output_type": "execute_result"
    }
   ],
   "source": [
    "np.cumsum(pca.explained_variance_ratio_)"
   ]
  },
  {
   "cell_type": "markdown",
   "metadata": {
    "collapsed": true
   },
   "source": [
    "These results were not very useful, as it would take 6 principal components to explain 90% of the variance.  Let's try the process for the locations."
   ]
  },
  {
   "cell_type": "code",
   "execution_count": 11,
   "metadata": {
    "collapsed": true
   },
   "outputs": [],
   "source": [
    "location = np.unique(d.index)\n",
    "\n",
    "sum_store = []\n",
    "\n",
    "for i in location:\n",
    "    X = d.loc[i, ['ELEVATION', 'LATITUDE', 'LONGITUDE', 'HOURLYDRYBULBTEMPF', 'HOURLYDewPointTempF', 'HOURLYRelativeHumidity', \n",
    "               'HOURLYWindSpeed', 'HOURLYStationPressure','HOURLYAltimeterSetting', 'HOURLYPrecip']]\n",
    "    scaler = StandardScaler(with_mean = True)\n",
    "    scaler.fit(X)\n",
    "    scaled_X = scaler.transform(X)\n",
    "    pca = PCA(n_components=9)\n",
    "    pca.fit(scaled_X)\n",
    "    sum_store.append(np.cumsum(pca.explained_variance_ratio_))"
   ]
  },
  {
   "cell_type": "code",
   "execution_count": 12,
   "metadata": {},
   "outputs": [
    {
     "name": "stdout",
     "output_type": "stream",
     "text": [
      "[array([0.35353532, 0.61143308, 0.77686478, 0.91935715, 0.99970785,\n",
      "       0.99998348, 1.        , 1.        , 1.        ]), array([0.34916364, 0.6372425 , 0.78312255, 0.92264098, 0.99723078,\n",
      "       0.999977  , 1.        , 1.        , 1.        ]), array([0.31499306, 0.53995992, 0.72913083, 0.87157379, 0.99472329,\n",
      "       0.99996488, 1.        , 1.        , 1.        ]), array([0.3489858 , 0.61188946, 0.75863317, 0.90110419, 0.99625897,\n",
      "       0.99997865, 1.        , 1.        , 1.        ]), array([0.35380837, 0.59057915, 0.7759226 , 0.91840989, 0.99963806,\n",
      "       0.99998621, 1.        , 1.        , 1.        ]), array([0.3263422 , 0.60727135, 0.77277095, 0.91542743, 0.99973578,\n",
      "       0.99999052, 1.        , 1.        , 1.        ]), array([0.38849234, 0.59531337, 0.76580338, 0.90814349, 0.99944259,\n",
      "       0.99999908, 1.        , 1.        , 1.        ]), array([0.36006419, 0.60765401, 0.78117937, 0.92357445, 0.99969323,\n",
      "       0.99998858, 1.        , 1.        , 1.        ]), array([0.39440023, 0.60413624, 0.77230606, 0.91537993, 0.99970947,\n",
      "       0.99998917, 1.        , 1.        , 1.        ]), array([0.36028591, 0.60661555, 0.7755337 , 0.91231266, 0.99804707,\n",
      "       0.99998239, 1.        , 1.        , 1.        ]), array([0.44173244, 0.63063341, 0.77822167, 0.91318966, 0.99931408,\n",
      "       0.99998522, 1.        , 1.        , 1.        ]), array([0.40001505, 0.58657038, 0.76465312, 0.90700815, 0.99946035,\n",
      "       0.99998257, 1.        , 1.        , 1.        ]), array([0.38560813, 0.60043875, 0.76490925, 0.90806799, 0.9994284 ,\n",
      "       1.        , 1.        , 1.        , 1.        ]), array([0.3483059 , 0.58439697, 0.73511958, 0.87763745, 0.99138817,\n",
      "       0.99997111, 1.        , 1.        , 1.        ]), array([0.38270796, 0.60537444, 0.76988097, 0.91283532, 0.9996704 ,\n",
      "       0.99998815, 1.        , 1.        , 1.        ]), array([0.43593821, 0.60796117, 0.76682056, 0.90810368, 0.99961379,\n",
      "       1.        , 1.        , 1.        , 1.        ]), array([0.39091394, 0.63124522, 0.78022357, 0.90719465, 0.9971814 ,\n",
      "       0.99998133, 1.        , 1.        , 1.        ]), array([0.33553011, 0.59479482, 0.76391871, 0.89481944, 0.99882074,\n",
      "       0.99998369, 1.        , 1.        , 1.        ]), array([0.41227079, 0.59722358, 0.76386948, 0.90620313, 0.99929239,\n",
      "       0.99998486, 1.        , 1.        , 1.        ])]\n"
     ]
    }
   ],
   "source": [
    "print(sum_store)"
   ]
  },
  {
   "cell_type": "markdown",
   "metadata": {},
   "source": [
    "## Conclusion\n",
    "\n",
    "Although still 4 principal components were required to explain around 90% of the variance, this result was slightly improved when sorted by location."
   ]
  }
 ],
 "metadata": {
  "kernelspec": {
   "display_name": "Python 3",
   "language": "python",
   "name": "python3"
  },
  "language_info": {
   "codemirror_mode": {
    "name": "ipython",
    "version": 3
   },
   "file_extension": ".py",
   "mimetype": "text/x-python",
   "name": "python",
   "nbconvert_exporter": "python",
   "pygments_lexer": "ipython3",
   "version": "3.6.3"
  }
 },
 "nbformat": 4,
 "nbformat_minor": 2
}
